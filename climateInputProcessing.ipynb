{
 "cells": [
  {
   "cell_type": "code",
   "execution_count": 17,
   "id": "88110198",
   "metadata": {},
   "outputs": [],
   "source": [
    "\n",
    "import netCDF4 as nc\n",
    "\n",
    "import pandas as pd  \n",
    "\n",
    "\n",
    "\n",
    "# Open the NetCDF file\n",
    "\n",
    "data = nc.Dataset('Extraction_tas.nc')\n",
    "\n",
    "\n",
    "\n",
    "#nc_file = nc.Dataset('Extraction_tas.nc', \"r\")\n",
    "\n",
    "\n"
   ]
  },
  {
   "cell_type": "code",
   "execution_count": 18,
   "id": "165cdb29",
   "metadata": {},
   "outputs": [
    {
     "name": "stdout",
     "output_type": "stream",
     "text": [
      "<class 'netCDF4.Dataset'>\n",
      "root group (NETCDF3_CLASSIC data model, file format NETCDF3):\n",
      "    institution: Australian Commonwealth Scientific and Industrial Research Organization (CSIRO) Marine and Atmospheric Research (Melbourne, Australia) in collaboration with the Queensland Climate Change Centre of Excellence (QCCCE) (Brisbane, Australia)\n",
      "    institute_id: CSIRO-QCCCE\n",
      "    model_id: CSIRO-Mk3-6-0\n",
      "    frequency: mon\n",
      "    experiment: RCP2.6\n",
      "    experiment_id: rcp26\n",
      "    parent_experiment: historical\n",
      "    parent_experiment_id: historical\n",
      "    parent_experiment_rip: r1i1p1\n",
      "    creation_date: Mon Jun 25 21:42:28 PDT 2012\n",
      "    references: BCSD method: Wood AW, Maurer EP, Kumar A, Lettenmaier DP, 2002, J Geophys Res 107(D20):4429 & \n",
      "Wood AW, Leung LR, Sridhar V, Lettenmaier DP, 2004, Clim Change 62:189–216\n",
      "Reference period obs: updated version of Maurer EP, Wood AW, Adam JC, Lettenmaier DP, Nijssen B, 2002, J Climate 15(22):3237–3251, \n",
      "provided via http://www.engr.scu.edu/~emaurer/gridded_obs/index_gridded_obs.html\n",
      "    contacts: Bridget Thrasher: bridget@climateanalyticsgroup.org or Ed Maurer: emaurer@scu.edu\n",
      "    documentation: http://gdo-dcp.ucllnl.org\n",
      "    Projections: csiro-mk3-6-0.1.rcp26, csiro-mk3-6-0.2.rcp26, csiro-mk3-6-0.3.rcp26, csiro-mk3-6-0.4.rcp26, csiro-mk3-6-0.5.rcp26, csiro-mk3-6-0.6.rcp26, csiro-mk3-6-0.7.rcp26, csiro-mk3-6-0.8.rcp26, csiro-mk3-6-0.9.rcp26, csiro-mk3-6-0.10.rcp26, gfdl-cm3.1.rcp26, gfdl-esm2m.1.rcp26, giss-e2-r.1.rcp26, miroc-esm.1.rcp26, miroc5.1.rcp26, \n",
      "    dimensions(sizes): projection(15), time(72), latitude(2), longitude(1)\n",
      "    variables(dimensions): float32 tas(projection, time, latitude, longitude), float64 time(time), float32 latitude(latitude), float32 longitude(longitude)\n",
      "    groups: \n",
      "\"<class 'netCDF4.Dimension'>\" (unlimited): name = 'projection', size = 15\n",
      "\"<class 'netCDF4.Dimension'>\": name = 'time', size = 72\n",
      "\"<class 'netCDF4.Dimension'>\": name = 'latitude', size = 2\n",
      "\"<class 'netCDF4.Dimension'>\": name = 'longitude', size = 1\n"
     ]
    }
   ],
   "source": [
    "print(data)\n",
    "for dim in data.dimensions.values():\n",
    "    print(dim)"
   ]
  },
  {
   "cell_type": "code",
   "execution_count": 19,
   "id": "2cbb8589",
   "metadata": {},
   "outputs": [
    {
     "name": "stdout",
     "output_type": "stream",
     "text": [
      "<class 'netCDF4.Variable'>\n",
      "float32 tas(projection, time, latitude, longitude)\n",
      "    _FillValue: 1e+20\n",
      "    associated_files: baseURL: http://cmip-pcmdi.llnl.gov/CMIP5/dataLocation gridspecFile: gridspec_atmos_fx_CSIRO-Mk3-6-0_rcp26_r0i0p0.nc areacella: areacella_fx_CSIRO-Mk3-6-0_rcp26_r0i0p0.nc\n",
      "    missing_value: 1e+20\n",
      "    coordinates: height\n",
      "    history: 2011-08-10T05:05:50Z altered by CMOR: Treated scalar dimension: 'height'.\n",
      "    cell_measures: area: areacella\n",
      "    cell_methods: time: mean\n",
      "    original_name: tsc\n",
      "    units: C\n",
      "    long_name: Near-Surface Air Temperature\n",
      "    standard_name: air_temperature\n",
      "    time: 55136.5\n",
      "unlimited dimensions: projection\n",
      "current shape = (15, 72, 2, 1)\n",
      "filling on\n",
      "<class 'netCDF4.Variable'>\n",
      "float64 time(time)\n",
      "    axis: T\n",
      "    long_name: time\n",
      "    standard_name: time\n",
      "    units: days since 1950-01-01 00:00:00\n",
      "    calendar: standard\n",
      "unlimited dimensions: \n",
      "current shape = (72,)\n",
      "filling on, default _FillValue of 9.969209968386869e+36 used\n",
      "<class 'netCDF4.Variable'>\n",
      "float32 latitude(latitude)\n",
      "    units: degrees_north\n",
      "unlimited dimensions: \n",
      "current shape = (2,)\n",
      "filling on, default _FillValue of 9.969209968386869e+36 used\n",
      "<class 'netCDF4.Variable'>\n",
      "float32 longitude(longitude)\n",
      "    units: degrees_east\n",
      "unlimited dimensions: \n",
      "current shape = (1,)\n",
      "filling on, default _FillValue of 9.969209968386869e+36 used\n"
     ]
    }
   ],
   "source": [
    "for var in data.variables.values():\n",
    "    print(var)"
   ]
  },
  {
   "cell_type": "code",
   "execution_count": 21,
   "id": "7be49b74",
   "metadata": {},
   "outputs": [
    {
     "data": {
      "text/plain": [
       "masked_array(data=[27409.5, 27439. , 27468.5, 27499. , 27529.5, 27560. ,\n",
       "                   27590.5, 27621.5, 27652. , 27682.5, 27713. , 27743.5,\n",
       "                   27774.5, 27804. , 27833.5, 27864. , 27894.5, 27925. ,\n",
       "                   27955.5, 27986.5, 28017. , 28047.5, 28078. , 28108.5,\n",
       "                   28139.5, 28169. , 28198.5, 28229. , 28259.5, 28290. ,\n",
       "                   28320.5, 28351.5, 28382. , 28412.5, 28443. , 28473.5,\n",
       "                   28504.5, 28534. , 28564.5, 28595. , 28625.5, 28656. ,\n",
       "                   28686.5, 28717.5, 28748. , 28778.5, 28809. , 28839.5,\n",
       "                   28870.5, 28900. , 28929.5, 28960. , 28990.5, 29021. ,\n",
       "                   29051.5, 29082.5, 29113. , 29143.5, 29174. , 29204.5,\n",
       "                   29235.5, 29265. , 29294.5, 29325. , 29355.5, 29386. ,\n",
       "                   29416.5, 29447.5, 29478. , 29508.5, 29539. , 29569.5],\n",
       "             mask=False,\n",
       "       fill_value=1e+20)"
      ]
     },
     "metadata": {},
     "output_type": "display_data"
    }
   ],
   "source": [
    "prcp = data['time'][:]\n",
    "display(prcp)"
   ]
  },
  {
   "cell_type": "code",
   "execution_count": null,
   "id": "d70318a8",
   "metadata": {},
   "outputs": [],
   "source": [
    "data.close()"
   ]
  }
 ],
 "metadata": {
  "kernelspec": {
   "display_name": "Python 3 (ipykernel)",
   "language": "python",
   "name": "python3"
  },
  "language_info": {
   "codemirror_mode": {
    "name": "ipython",
    "version": 3
   },
   "file_extension": ".py",
   "mimetype": "text/x-python",
   "name": "python",
   "nbconvert_exporter": "python",
   "pygments_lexer": "ipython3",
   "version": "3.11.5"
  }
 },
 "nbformat": 4,
 "nbformat_minor": 5
}
